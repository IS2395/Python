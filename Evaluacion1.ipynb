{
  "nbformat": 4,
  "nbformat_minor": 0,
  "metadata": {
    "colab": {
      "provenance": [],
      "authorship_tag": "ABX9TyO/VZUzF0sECbt7Ll0Guau0",
      "include_colab_link": true
    },
    "kernelspec": {
      "name": "python3",
      "display_name": "Python 3"
    },
    "language_info": {
      "name": "python"
    }
  },
  "cells": [
    {
      "cell_type": "markdown",
      "metadata": {
        "id": "view-in-github",
        "colab_type": "text"
      },
      "source": [
        "<a href=\"https://colab.research.google.com/github/IS2395/Python/blob/main/Evaluacion1.ipynb\" target=\"_parent\"><img src=\"https://colab.research.google.com/assets/colab-badge.svg\" alt=\"Open In Colab\"/></a>"
      ]
    },
    {
      "cell_type": "markdown",
      "source": [
        "#Práctica 2.\n",
        "\n",
        "\n",
        "###2 Práctica Números enteros y reales.\n",
        "Realiza los ejercicios de acuerdo a las indicaciones\n",
        "\n",
        "2.1 Ejercicio 1 (1.5 puntos)\n",
        "\n",
        "Escribir un programa que convierta un valor dado en grados Fahrenheit a grados Celsius."
      ],
      "metadata": {
        "id": "xz-c1WVsamOB"
      }
    },
    {
      "cell_type": "code",
      "execution_count": null,
      "metadata": {
        "colab": {
          "base_uri": "https://localhost:8080/"
        },
        "id": "jw3CfrUeZnNe",
        "outputId": "d8e44791-f440-4f67-b2ef-d714753fef83"
      },
      "outputs": [
        {
          "output_type": "stream",
          "name": "stdout",
          "text": [
            "Introduce grados Fahrenheit: 32\n",
            "Grados Celsius:  0.0\n"
          ]
        }
      ],
      "source": [
        "gradf=float(input('Introduce grados Fahrenheit: '))\n",
        "celsius=(gradf-32)/1.8\n",
        "print('Grados Celsius: ', float(celsius))"
      ]
    },
    {
      "cell_type": "markdown",
      "source": [
        "2.2 Ejercicio 2 (1.5 puntos)\n",
        "\n",
        "Dados dos números, mostrar la suma, resta, división y multiplicación de ambos."
      ],
      "metadata": {
        "id": "zB6Yop7ibBOc"
      }
    },
    {
      "cell_type": "code",
      "source": [],
      "metadata": {
        "id": "n4DLHRJwbHiS"
      },
      "execution_count": null,
      "outputs": []
    },
    {
      "cell_type": "markdown",
      "source": [
        "2.3 Ejercicio 3 (1.5 puntos)\n",
        "\n",
        "Calcular el perímetro y área de un rectángulo dada su base y su altura. Respuesta:"
      ],
      "metadata": {
        "id": "VgWX3pr8bIJY"
      }
    },
    {
      "cell_type": "code",
      "source": [],
      "metadata": {
        "id": "7QMyXPK6bK4o"
      },
      "execution_count": null,
      "outputs": []
    }
  ]
}