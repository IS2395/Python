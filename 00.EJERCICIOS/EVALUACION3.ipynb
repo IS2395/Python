{
  "nbformat": 4,
  "nbformat_minor": 0,
  "metadata": {
    "colab": {
      "name": "EVALUACION5.ipynb",
      "provenance": [],
      "include_colab_link": true
    },
    "kernelspec": {
      "name": "python3",
      "display_name": "Python 3"
    },
    "language_info": {
      "name": "python"
    }
  },
  "cells": [
    {
      "cell_type": "markdown",
      "metadata": {
        "id": "view-in-github",
        "colab_type": "text"
      },
      "source": [
        "<a href=\"https://colab.research.google.com/github/IS2395/Python/blob/main/00.EJERCICIOS/EVALUACION3.ipynb\" target=\"_parent\"><img src=\"https://colab.research.google.com/assets/colab-badge.svg\" alt=\"Open In Colab\"/></a>"
      ]
    },
    {
      "cell_type": "markdown",
      "source": [
        "#5 Práctica 5. \n",
        "Operadores relacionales. (6 puntos)\n",
        "\n",
        "## 5.1 Ejercicio 1 (2 puntos)\n",
        "Programa que imprima si el número es positivo o negativo, el número debe ser ingresado por consola.\n",
        "\n"
      ],
      "metadata": {
        "id": "r7beNH5cW9_x"
      }
    },
    {
      "cell_type": "code",
      "source": [
        "#Tu codigo aqui\n",
        "numero=int(input('Ingresa un numero: '))\n",
        "if numero > 0:\n",
        "  print(f'El numero {numero} es un numero positivo')\n",
        "else:\n",
        "  print(f'El numero {numero} es un numero negativo')  "
      ],
      "metadata": {
        "id": "bZVUL37GXES5"
      },
      "execution_count": null,
      "outputs": []
    },
    {
      "cell_type": "markdown",
      "source": [
        "## 5.2 Ejercicio 2 (2 puntos)\n",
        "Programa que imprima si el número ingresado esta en el rango de 1 a 7, el número se solicita por consola.\n",
        "\n"
      ],
      "metadata": {
        "id": "HCdfkizhXH84"
      }
    },
    {
      "cell_type": "code",
      "execution_count": null,
      "metadata": {
        "id": "-gwRlEcsW8t9"
      },
      "outputs": [],
      "source": [
        "#Tu codigo aqui\n",
        "rango=int(input('Introduce un numero: '))\n",
        "if rango >=1 and rango <=7:\n",
        "  print(f'El numero {rango} esta en el rango de 1 a 7')\n",
        "else:  \n",
        "  print(f'El numero {rango} no esta en el rango de 1 a 7')"
      ]
    },
    {
      "cell_type": "markdown",
      "source": [
        "## 5.3 Ejercicio 3 (2 puntos)\n",
        "Programa que solicite un monto y que solicite el interés mensual, si el interés es mayor al 30% nos imprimirá que es incorrecto, si es menor realizará el cálculo e imprimira el monto con su interés adicionado."
      ],
      "metadata": {
        "id": "MfOTeEoPXMPg"
      }
    },
    {
      "cell_type": "code",
      "source": [
        "#Tu codigo aqui\n",
        "monto=float(input('Ingresa el monto: '))\n",
        "porciento=float(input('Ingresa el % de interes mensual: '))\n",
        "interes=monto*(porciento/100)\n",
        "if porciento >= 30:\n",
        "  total=monto+interes\n",
        "  print(f'El importe total con el {porciento}% de intereses es de {total}')\n",
        "else:\n",
        "  print(f'El importe total es de {monto}')"
      ],
      "metadata": {
        "id": "vK-sijxOXN_I"
      },
      "execution_count": null,
      "outputs": []
    }
  ]
}