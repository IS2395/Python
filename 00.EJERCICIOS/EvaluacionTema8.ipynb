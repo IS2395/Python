{
  "nbformat": 4,
  "nbformat_minor": 0,
  "metadata": {
    "colab": {
      "name": "EVALUACION8.ipynb",
      "provenance": [],
      "include_colab_link": true
    },
    "kernelspec": {
      "name": "python3",
      "display_name": "Python 3"
    },
    "language_info": {
      "name": "python"
    }
  },
  "cells": [
    {
      "cell_type": "markdown",
      "metadata": {
        "id": "view-in-github",
        "colab_type": "text"
      },
      "source": [
        "<a href=\"https://colab.research.google.com/github/IS2395/Python/blob/main/00.EJERCICIOS/EvaluacionTema8.ipynb\" target=\"_parent\"><img src=\"https://colab.research.google.com/assets/colab-badge.svg\" alt=\"Open In Colab\"/></a>"
      ]
    },
    {
      "cell_type": "markdown",
      "source": [
        "# **Práctica 8. (6 puntos)**"
      ],
      "metadata": {
        "id": "GrDn_g3q04G6"
      }
    },
    {
      "cell_type": "markdown",
      "source": [
        "## **Ejercicio 1 (2 puntos)**\n",
        "\n",
        "Escribe un programa python que pida un número por teclado y que cree un diccionario cuyas claves sean desde el número 1 hasta el número indicado, y los valores sean los cuadrados de las claves.\n",
        "\n",
        "Ejemplo: si se ingresa el 4 imprima el cuadrado de 1, de 2, de 3 y de 4"
      ],
      "metadata": {
        "id": "ZaOOdYUn07zQ"
      }
    },
    {
      "cell_type": "code",
      "source": [
        "numeros = int(input(\"Digita un numero: \"))\n",
        "numeros_al_cuadrado = {}\n",
        "\n",
        "for n in range(1, numeros+1):\n",
        "  numeros_al_cuadrado[n] = n**2\n",
        "cuadrados=numeros_al_cuadrado.items()\n",
        "for k,v in cuadrados:\n",
        "  print(f'El cuadrado de {k} es {v}')"
      ],
      "metadata": {
        "id": "JMGHwYhU4Q-n",
        "colab": {
          "base_uri": "https://localhost:8080/"
        },
        "outputId": "1e4ebce3-26e0-46fe-9c90-4550316ecf3d"
      },
      "execution_count": 5,
      "outputs": [
        {
          "output_type": "stream",
          "name": "stdout",
          "text": [
            "Digita un numero: 5\n",
            "El cuadrado de 1 es 1\n",
            "El cuadrado de 2 es 4\n",
            "El cuadrado de 3 es 9\n",
            "El cuadrado de 4 es 16\n",
            "El cuadrado de 5 es 25\n"
          ]
        }
      ]
    },
    {
      "cell_type": "markdown",
      "source": [
        "## **Ejercicio 2 (2 puntos)**\n",
        "\n",
        "Escribe un programa que lea una cadena y devuelva un diccionario con la cantidad de apariciones de cada carácter en la cadena.\n",
        "\n",
        "Ejemplo: si se ingresa \"paloma\" p=1 a=2 l=1 o=1 m=1"
      ],
      "metadata": {
        "id": "asCozCdr1FSP"
      }
    },
    {
      "cell_type": "code",
      "source": [
        "palabras = {}\n",
        "cadena = input(\"Escribe una oración: \")\n",
        "\n",
        "for char in cadena:\n",
        "\tif char in palabras:\n",
        "\t\tpalabras[char] = palabras[char] + 1\n",
        "\telse:\n",
        "\t\tpalabras[char] = 1\n",
        "\n",
        "diccionario=palabras.items()\n",
        "\n",
        "for k, v in diccionario:\n",
        "\tprint (f'El caracter {k} en la cadena {cadena} aparece {v} veces')\n"
      ],
      "metadata": {
        "id": "475JTCjq4R9k",
        "colab": {
          "base_uri": "https://localhost:8080/"
        },
        "outputId": "8f243951-350f-4137-cb24-80cfbedd3a11"
      },
      "execution_count": 6,
      "outputs": [
        {
          "output_type": "stream",
          "name": "stdout",
          "text": [
            "Escribe una oración: hola\n",
            "El caracter h en la cadena hola aparece 1 veces\n",
            "El caracter o en la cadena hola aparece 1 veces\n",
            "El caracter l en la cadena hola aparece 1 veces\n",
            "El caracter a en la cadena hola aparece 1 veces\n"
          ]
        }
      ]
    },
    {
      "cell_type": "markdown",
      "source": [
        "## **Ejercicio 3 (2 puntos)**\n",
        "\n",
        "Vamos a crear un programa en python donde vamos a declarar un diccionario para guardar los precios de las distintas frutas. El programa pedirá el nombre de la fruta y la cantidad que se ha vendido y nos mostrará el precio final de la fruta a partir de los datos guardados en el diccionario. Si la fruta no existe nos dará un error. Tras cada consulta el programa nos preguntará si queremos hacer otra consulta."
      ],
      "metadata": {
        "id": "eeKjM3vu1JmO"
      }
    },
    {
      "cell_type": "code",
      "execution_count": 9,
      "metadata": {
        "id": "aBt67xLjitXN",
        "colab": {
          "base_uri": "https://localhost:8080/"
        },
        "outputId": "a52085b7-5373-4dcf-fb53-f153ad5e53a4"
      },
      "outputs": [
        {
          "name": "stdout",
          "output_type": "stream",
          "text": [
            "Fruta: mango Precio: 7\n",
            "Fruta: melon Precio: 25\n",
            "Fruta: manzana Precio: 10\n",
            "Fruta: mamey Precio: 30\n",
            "Fruta a vender: mango\n",
            "Cantidad vendida: 4\n",
            "El precio a pagar es de: 28\n",
            "Hacer otra operacion: S/N n\n"
          ]
        }
      ],
      "source": [
        "precio = {'mango':7, 'melon':25, 'manzana':10, 'mamey':30}\n",
        "lista_precios=precio.items()\n",
        "\n",
        "for k,v in lista_precios:\n",
        "  print(f'Fruta: {k} Precio: {v}')\n",
        "\n",
        "seguir=''\n",
        "while seguir != 'N':\n",
        "  fruta = input('Fruta a vender: ')\n",
        "  if fruta in precio:\n",
        "    cantidad = int(input('Cantidad vendida: '))\n",
        "    total=cantidad * precio[fruta]\n",
        "    print(f'El precio a pagar es de: {total}')\n",
        "    seguir=input('Hacer otra operacion: S/N ').upper()\n",
        "  else: \n",
        "    print(f'No se encontro {fruta} en el sistema')\n"
      ]
    }
  ]
}