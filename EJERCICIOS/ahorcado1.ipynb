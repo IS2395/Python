{
  "nbformat": 4,
  "nbformat_minor": 0,
  "metadata": {
    "colab": {
      "provenance": [],
      "authorship_tag": "ABX9TyP2fKyZh7gAegEML4wQEQC/",
      "include_colab_link": true
    },
    "kernelspec": {
      "name": "python3",
      "display_name": "Python 3"
    },
    "language_info": {
      "name": "python"
    }
  },
  "cells": [
    {
      "cell_type": "markdown",
      "metadata": {
        "id": "view-in-github",
        "colab_type": "text"
      },
      "source": [
        "<a href=\"https://colab.research.google.com/github/escuelaDeCodigoMargaritaMaza/Python/blob/main/EJERCICIOS/ahorcado1.ipynb\" target=\"_parent\"><img src=\"https://colab.research.google.com/assets/colab-badge.svg\" alt=\"Open In Colab\"/></a>"
      ]
    },
    {
      "cell_type": "code",
      "execution_count": null,
      "metadata": {
        "id": "Rtu7RvduY-OE"
      },
      "outputs": [],
      "source": [
        "palabra_secreta='parangaracutirimicuaro'\n",
        "print(\"¡Adivina la palabra secreta! de \",(len(palabra_secreta)),\" letras\\n\")\n",
        "\n",
        "letra_ingresada = [] #almacena las letras ingresadas\n",
        "vidas = 3\n",
        "separador = \"-\"\n",
        "palabra_descompuesta = [] \n",
        "\n",
        "for letra in range(len(palabra_secreta)):\n",
        "  palabra_descompuesta.append('_ ') \n",
        "\n",
        "usadas = len(palabra_secreta)\n",
        "\n",
        "while usadas  > 0 and vidas > 0: \n",
        "  print(f'Tienes {vidas} vidas y las letras que has ingresado son: {separador.join(letra_ingresada)}')\n",
        "  print(\"\".join(palabra_descompuesta)) \n",
        "\n",
        "  letra_usuario = input(\"Ingresa una letra:\\n\")\n",
        "\n",
        "  for char in range(len(palabra_secreta)):\n",
        "     if letra_usuario == palabra_secreta[char]:\n",
        "       palabra_descompuesta[char] = letra_usuario.upper() + \" \"\n",
        "\n",
        "  if letra_usuario in letra_ingresada:\n",
        "    print(\"Esa letra ya se utilizó, ingresa otra letra\")\n",
        "  else:\n",
        "    letra_ingresada.append(letra_usuario)\n",
        "    if letra_usuario in palabra_secreta:\n",
        "      usadas = usadas - palabra_secreta.count(letra_usuario) \n",
        "      print(f'La letra {letra_usuario}, si está {palabra_secreta.count(letra_usuario)} veces en la palabra secreta')\n",
        "\n",
        "    else:   \n",
        "      vidas -= 1\n",
        "      print(f'La letra {letra_usuario}, no se encuentra en la palabra secreta')   \n",
        "\n",
        "\n",
        "\n",
        "if vidas == 0:\n",
        "  print(f'\\nYa no te quedan más oportunidades.\\n¡Lastima!\\nLa palabra secreta era: {\" \".join(palabra_secreta.upper())}')\n",
        "else:\n",
        "  print(\"\\n¡Felicidades Adivinaste la Palabra! \",\" \".join(palabra_secreta.upper()))"
      ]
    }
  ]
}