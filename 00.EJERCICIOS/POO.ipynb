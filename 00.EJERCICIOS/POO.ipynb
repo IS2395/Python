{
  "nbformat": 4,
  "nbformat_minor": 0,
  "metadata": {
    "colab": {
      "provenance": [],
      "authorship_tag": "ABX9TyPDFLAML7yYo0lAvo2oYXJZ",
      "include_colab_link": true
    },
    "kernelspec": {
      "name": "python3",
      "display_name": "Python 3"
    },
    "language_info": {
      "name": "python"
    }
  },
  "cells": [
    {
      "cell_type": "markdown",
      "metadata": {
        "id": "view-in-github",
        "colab_type": "text"
      },
      "source": [
        "<a href=\"https://colab.research.google.com/github/IS2395/Python/blob/main/00.EJERCICIOS/POO.ipynb\" target=\"_parent\"><img src=\"https://colab.research.google.com/assets/colab-badge.svg\" alt=\"Open In Colab\"/></a>"
      ]
    },
    {
      "cell_type": "code",
      "execution_count": null,
      "metadata": {
        "id": "9P98gmccYQSJ"
      },
      "outputs": [],
      "source": [
        "dir(str) #mostrar metodos de la clase"
      ]
    },
    {
      "cell_type": "code",
      "source": [
        "help('') #informacion de la clase"
      ],
      "metadata": {
        "id": "X8_5ThefarTp"
      },
      "execution_count": null,
      "outputs": []
    },
    {
      "cell_type": "code",
      "source": [
        "class Usuario: #class - genera una clase  Usuario - nombre la de clase en Pascalcase\n",
        "  pass #cuerpo de la clase   pass - generar la clase vacia"
      ],
      "metadata": {
        "id": "fyCzbSyVbng6"
      },
      "execution_count": 7,
      "outputs": []
    },
    {
      "cell_type": "code",
      "source": [
        "class Usuario:\n",
        "  nombre='' #Atributos\n",
        "  folio=''\n",
        "  correo=''\n",
        "  def saludar(self): #self - se refiere al atributo de la clase\n",
        "    print(f'Hola me llamo {self.nombre}\\nTengo el foiio {self.folio}\\nMi correo es {self.correo}') #Escribir self. para referirse al atributo del objeto\n",
        "\n",
        "\n",
        "Usuario1=Usuario() #Agregar un objeto a la clase\n",
        "Usuario1.nombre='Ivan' #Agregar valor al atributo nombre del objeto\n",
        "Usuario1.folio='2395'\n",
        "Usuario1.correo='ivan@correo.com'\n",
        "\n",
        "Usuario2=Usuario()\n",
        "Usuario2.nombre='Pablo'\n",
        "Usuario2.folio='9523'\n",
        "Usuario2.correo='pablo@correo.com'\n",
        "\n",
        "Usuario3=Usuario()\n",
        "Usuario3.nombre='Lali'\n",
        "Usuario3.folio='1912'\n",
        "Usuario3.correo='lali@correo.com'\n",
        "\n",
        "\n",
        "print(Usuario1.nombre)\n",
        "print(Usuario1.folio)\n",
        "print(Usuario1.correo)\n",
        "\n",
        "print(Usuario2.nombre)\n",
        "print(Usuario2.folio)\n",
        "print(Usuario2.correo)\n",
        "\n",
        "print(Usuario1.nombre.upper())\n",
        "\n",
        "Usuario3.saludar()\n",
        "\n",
        "\n",
        "\n",
        "\n",
        "\n"
      ],
      "metadata": {
        "colab": {
          "base_uri": "https://localhost:8080/"
        },
        "id": "OvDQ8k6tc46R",
        "outputId": "41bf1813-1d51-4352-d8cb-681ef67f67d5"
      },
      "execution_count": 23,
      "outputs": [
        {
          "output_type": "stream",
          "name": "stdout",
          "text": [
            "Ivan\n",
            "2395\n",
            "ivan@correo.com\n",
            "Pablo\n",
            "9523\n",
            "pablo@correo.com\n",
            "IVAN\n",
            "Hola me llamo Lali\n",
            "Tengo el foiio 1912\n",
            "Mi correo es lali@correo.com\n"
          ]
        }
      ]
    },
    {
      "cell_type": "code",
      "source": [
        "#Formar convencional para crear las clases\n",
        "class Usuario:\n",
        "  ''' generacion de clase'''\n",
        "  def __init__(self,nombre,folio,correo):  #Definir metodo constructor init\n",
        "    self.nombre=nombre #Atributos\n",
        "    self.folio=folio\n",
        "    self.correo=correo\n",
        "    '''generacion de atributos'''\n",
        "  def __str__(self): #self - se refiere al atributo de la clase    __str__ - Convierte a texto el objeto que se va a imprimir\n",
        "    return f'Hola me llamo {self.nombre}\\nTengo el foiio {self.folio}\\nMi correo es {self.correo}' #Escribir self. para referirse al atributo del objeto\n",
        "\n",
        "Usuario3=Usuario('Chacho','0519','chacho@correo.com')\n",
        "print(Usuario3)\n",
        "\n",
        "#Metodo para saber si un usuario esta en un taller y en que talleres esta"
      ],
      "metadata": {
        "colab": {
          "base_uri": "https://localhost:8080/"
        },
        "id": "iSWeOK4Rk0lu",
        "outputId": "960471cc-d315-45bf-a7e8-088bc53602a3"
      },
      "execution_count": 30,
      "outputs": [
        {
          "output_type": "stream",
          "name": "stdout",
          "text": [
            "Hola me llamo Chacho\n",
            "Tengo el foiio 0519\n",
            "Mi correo es chacho@correo.com\n"
          ]
        }
      ]
    },
    {
      "cell_type": "code",
      "source": [
        "help(Usuario)"
      ],
      "metadata": {
        "id": "tYtP1ZuvnhL9"
      },
      "execution_count": null,
      "outputs": []
    }
  ]
}