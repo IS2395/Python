{
  "nbformat": 4,
  "nbformat_minor": 0,
  "metadata": {
    "colab": {
      "name": "Untitled7.ipynb",
      "provenance": [],
      "include_colab_link": true
    },
    "kernelspec": {
      "name": "python3",
      "display_name": "Python 3"
    },
    "language_info": {
      "name": "python"
    }
  },
  "cells": [
    {
      "cell_type": "markdown",
      "metadata": {
        "id": "view-in-github",
        "colab_type": "text"
      },
      "source": [
        "<a href=\"https://colab.research.google.com/github/IS2395/Python/blob/main/00.EJERCICIOS/EVALUACION4.ipynb\" target=\"_parent\"><img src=\"https://colab.research.google.com/assets/colab-badge.svg\" alt=\"Open In Colab\"/></a>"
      ]
    },
    {
      "cell_type": "markdown",
      "source": [
        "# 6 Práctica\n",
        "Sentencias condicionales. (6 puntos)\n",
        "\n",
        "## Ejercicio 1 (1.5 puntos)\n",
        "Realizar un ejemplo de menú, donde podemos escoger las distintas opciones hasta que seleccionamos la opción de “Salir”.\n",
        "\n",
        "Menú de recomendaciones\n",
        "\n",
        "* Literatura\n",
        "* Cine\n",
        "* Música\n",
        "* Videojuegos\n",
        "* Salir\n",
        "\n",
        "Al ingresar una opcion\n",
        "\n",
        "opcion 1:\n",
        "\n",
        "Lecturas recomendables:\n",
        "\n",
        "* Esperándolo a Tito y otros cuentos de fútbol (Eduardo Sacheri)\n",
        "* El juego de Ender (Orson Scott Card)\n",
        "* El sueño de los héroes (Adolfo Bioy Casares)\n",
        "\n",
        "opcion 2:\n",
        "\n",
        "Películas recomendables:\n",
        "\n",
        "* Matrix (1999)\n",
        "* El último samuray (2003)\n",
        "* Cars (2006)\n",
        "\n",
        "opcion 3:\n",
        "\n",
        "Discos recomendables:\n",
        "\n",
        "* Despedazado por mil partes (La Renga, 1996)\n",
        "* Búfalo (La Mississippi, 2008)\n",
        "* Gaia (Mago de Oz, 2003)\n",
        "\n",
        "opcion 4:\n",
        "\n",
        "* Videojuegos clásicos recomendables\n",
        "* Día del tentáculo (LucasArts, 1993)\n",
        "* Terminal Velocity (Terminal Reality/3D Realms, 1995)\n",
        "* Death Rally (Remedy/Apogee, 1996)\n",
        "\n",
        "opcion 5:\n",
        "\n",
        "Gracias, vuelva prontos\n",
        "\n",
        "Opción no válida, en caso de ingresar un número fuera de las opciones\n",
        "\n"
      ],
      "metadata": {
        "id": "uvxPhEvyOpzM"
      }
    },
    {
      "cell_type": "code",
      "execution_count": null,
      "metadata": {
        "id": "3PNomPUSOpRw",
        "outputId": "d428a53d-3d93-42c1-8717-6c0485882f0f",
        "colab": {
          "base_uri": "https://localhost:8080/"
        }
      },
      "outputs": [
        {
          "name": "stdout",
          "output_type": "stream",
          "text": [
            "MENU DE RECOMENDACIONES\n",
            "1. Literatura\n",
            "2. Cine\n",
            "3. Musica\n",
            "4. Videojuegos\n",
            "5. Salir\n",
            "Introduce el numero del menu que deseas visitar:  \n",
            "1\n",
            "Lecturas recomendables: \n",
            "    - Esperándolo a Tito y otros cuentos de fútbol (Eduardo Sacheri)\n",
            "    - El juego de Ender (Orson Scott Card)\n",
            "    - El sueño de los héroes (Adolfo Bioy Casares) \n",
            "MENU DE RECOMENDACIONES\n",
            "1. Literatura\n",
            "2. Cine\n",
            "3. Musica\n",
            "4. Videojuegos\n",
            "5. Salir\n",
            "Introduce el numero del menu que deseas visitar:  \n",
            "2\n",
            "Peliculas recomendables:\n",
            "    - Matriz (1999)\n",
            "    - El ultimo samurai (2003)\n",
            "    - Cars (2006) \n",
            "MENU DE RECOMENDACIONES\n",
            "1. Literatura\n",
            "2. Cine\n",
            "3. Musica\n",
            "4. Videojuegos\n",
            "5. Salir\n",
            "Introduce el numero del menu que deseas visitar:  \n",
            "3\n",
            "Discos recomendables: \n",
            "    - Despedazado por mil partes (La Renga, 1996)\n",
            "    - Búfalo (La Mississippi, 2008)\n",
            "    - Gaia (Mago de Oz, 2003) \n",
            "MENU DE RECOMENDACIONES\n",
            "1. Literatura\n",
            "2. Cine\n",
            "3. Musica\n",
            "4. Videojuegos\n",
            "5. Salir\n",
            "Introduce el numero del menu que deseas visitar:  \n",
            "4\n",
            "Videojuegos clasicos recomendables: \n",
            "    - Día del tentáculo (LucasArts, 1993)\n",
            "    - Terminal Velocity (Terminal Reality/3D Realms, 1995)\n",
            "    - Death Rally (Remedy/Apogee, 1996)\n",
            "MENU DE RECOMENDACIONES\n",
            "1. Literatura\n",
            "2. Cine\n",
            "3. Musica\n",
            "4. Videojuegos\n",
            "5. Salir\n",
            "Introduce el numero del menu que deseas visitar:  \n",
            "0\n",
            "Opcion no valida\n",
            "MENU DE RECOMENDACIONES\n",
            "1. Literatura\n",
            "2. Cine\n",
            "3. Musica\n",
            "4. Videojuegos\n",
            "5. Salir\n",
            "Introduce el numero del menu que deseas visitar:  \n",
            "5\n"
          ]
        }
      ],
      "source": [
        "#Tu codigo aqui\n",
        "print('''MENU DE RECOMENDACIONES\n",
        "1. Literatura\n",
        "2. Cine\n",
        "3. Musica\n",
        "4. Videojuegos\n",
        "5. Salir\n",
        "Introduce el numero del menu que deseas visitar:  ''')\n",
        "menu=int(input(''))\n",
        "while menu != 5:\n",
        "  if menu == 1:\n",
        "    print('''Lecturas recomendables: \n",
        "    - Esperándolo a Tito y otros cuentos de fútbol (Eduardo Sacheri)\n",
        "    - El juego de Ender (Orson Scott Card)\n",
        "    - El sueño de los héroes (Adolfo Bioy Casares) ''')\n",
        "    \n",
        "  elif menu == 2:\n",
        "    print('''Peliculas recomendables:\n",
        "    - Matriz (1999)\n",
        "    - El ultimo samurai (2003)\n",
        "    - Cars (2006) ''')\n",
        "  elif menu == 3:\n",
        "    print('''Discos recomendables: \n",
        "    - Despedazado por mil partes (La Renga, 1996)\n",
        "    - Búfalo (La Mississippi, 2008)\n",
        "    - Gaia (Mago de Oz, 2003) ''')\n",
        "  elif menu == 4:\n",
        "    print('''Videojuegos clasicos recomendables: \n",
        "    - Día del tentáculo (LucasArts, 1993)\n",
        "    - Terminal Velocity (Terminal Reality/3D Realms, 1995)\n",
        "    - Death Rally (Remedy/Apogee, 1996)''')\n",
        "  elif menu == 5:\n",
        "    print('Gracias, vuelva pronto')\n",
        "  else:\n",
        "    print('Opcion no valida')\n",
        "  print('''MENU DE RECOMENDACIONES\n",
        "1. Literatura\n",
        "2. Cine\n",
        "3. Musica\n",
        "4. Videojuegos\n",
        "5. Salir\n",
        "Introduce el numero del menu que deseas visitar:  ''')\n",
        "  menu=int(input(''))\n",
        "  "
      ]
    },
    {
      "cell_type": "markdown",
      "source": [
        "## Ejercicio 2 (1.5 puntos)\n",
        "Se pide por teclado un número y nos imprime los números primos que hay previos a este número.\n",
        "\n",
        "Ejemplo: si ingresamos el 10 nos imprima del 1 a ese 10 cuales números son primos.\n"
      ],
      "metadata": {
        "id": "hwpI5TwUPMNa"
      }
    },
    {
      "cell_type": "code",
      "source": [
        "#Tu codigo aqui\n",
        "numero=int(input('Ingresa un numero: '))\n",
        "for i in range(2,numero+1):\n",
        "  divisor=0\n",
        "  for n in range(2,i):\n",
        "    if i % n == 0:\n",
        "      divisor=divisor+1\n",
        "  if divisor == 0:\n",
        "    print(f'El numero {i} es numero primo')\n",
        "  else:\n",
        "    print(f'El numero {i} no es primo')"
      ],
      "metadata": {
        "id": "TLccJKM3PQMI",
        "outputId": "459c31b5-dee1-44ea-a0ea-359a35b87e00",
        "colab": {
          "base_uri": "https://localhost:8080/"
        }
      },
      "execution_count": 2,
      "outputs": [
        {
          "output_type": "stream",
          "name": "stdout",
          "text": [
            "Ingresa un numero: 10\n",
            "El numero 2 es numero primo\n",
            "El numero 3 es numero primo\n",
            "El numero 4 no es primo\n",
            "El numero 5 es numero primo\n",
            "El numero 6 no es primo\n",
            "El numero 7 es numero primo\n",
            "El numero 8 no es primo\n",
            "El numero 9 no es primo\n",
            "El numero 10 no es primo\n"
          ]
        }
      ]
    },
    {
      "cell_type": "markdown",
      "source": [
        "\n",
        "## Ejercicio 3 (1.5 puntos)\n",
        "Una persona adquirió un producto para pagar en 20 meses. El primer mes pagó 10 €, el segundo 20 €, el tercero 40 € y así sucesivamente. Realizar un algoritmo para determinar cuánto debe pagar mensualmente y el total de lo que pagó después de los 20 meses.\n",
        "\n",
        "Al finalizar los 20 meses pago en total:\n",
        "\n",
        "primer mes pago 10, segundo mes pago 20, tercer mes pago 30, cuarto mes pago 40, etc."
      ],
      "metadata": {
        "id": "OFocRk5oPSqp"
      }
    },
    {
      "cell_type": "code",
      "source": [
        "#Tu codigo aqui\n",
        "pagos=[]\n",
        "pago_mes=10\n",
        "for mes in range (1,21):\n",
        "  pagos.append(pago_mes)\n",
        "  print (f'Pago en el mes {mes}: {pago_mes} €')\n",
        "  pago_mes=pago_mes+10\n",
        "total=sum(pagos)\n",
        "print(f'El total que se pago fue de {total} €')\n",
        "\n",
        "  \n",
        "\n",
        "\n"
      ],
      "metadata": {
        "id": "bV0ApoCHPU_Z",
        "colab": {
          "base_uri": "https://localhost:8080/"
        },
        "outputId": "4587881c-1093-4086-d5d3-c29fa87cb498"
      },
      "execution_count": null,
      "outputs": [
        {
          "output_type": "stream",
          "name": "stdout",
          "text": [
            "Pago en el mes 1: 10 €\n",
            "Pago en el mes 2: 20 €\n",
            "Pago en el mes 3: 30 €\n",
            "Pago en el mes 4: 40 €\n",
            "Pago en el mes 5: 50 €\n",
            "Pago en el mes 6: 60 €\n",
            "Pago en el mes 7: 70 €\n",
            "Pago en el mes 8: 80 €\n",
            "Pago en el mes 9: 90 €\n",
            "Pago en el mes 10: 100 €\n",
            "Pago en el mes 11: 110 €\n",
            "Pago en el mes 12: 120 €\n",
            "Pago en el mes 13: 130 €\n",
            "Pago en el mes 14: 140 €\n",
            "Pago en el mes 15: 150 €\n",
            "Pago en el mes 16: 160 €\n",
            "Pago en el mes 17: 170 €\n",
            "Pago en el mes 18: 180 €\n",
            "Pago en el mes 19: 190 €\n",
            "Pago en el mes 20: 200 €\n",
            "El total que se pago fue de 2100 €\n"
          ]
        }
      ]
    },
    {
      "cell_type": "markdown",
      "source": [
        "#Ejercicio 4. (1.5 puntos) \n",
        "\n",
        "Crea una aplicación que pida un número y calcule su factorial (El factorial de un número es el producto de todos los enteros entre 1 y el propio número y se representa por el número seguido de un signo de exclamación. Por ejemplo 5! = 1x2x3x4x5=120)."
      ],
      "metadata": {
        "id": "yK0kC_JMMOxJ"
      }
    },
    {
      "cell_type": "code",
      "source": [
        "#Tu codigo aqui\n",
        "numero=int(input('Ingresa en el numero del que quieres calcular su factorial: '))\n",
        "resultado=1\n",
        "for n in range(2,numero+1):\n",
        "  resultado=resultado*n\n",
        "print(f'{numero}!={resultado}')"
      ],
      "metadata": {
        "id": "g_RKIgA1MYj8",
        "outputId": "2396b8e6-9216-4943-8aa8-d3a57744fcb5",
        "colab": {
          "base_uri": "https://localhost:8080/"
        }
      },
      "execution_count": null,
      "outputs": [
        {
          "output_type": "stream",
          "name": "stdout",
          "text": [
            "Ingresa en el numero del que quieres calcular su factorial: 5\n",
            "5!=120\n"
          ]
        }
      ]
    }
  ]
}