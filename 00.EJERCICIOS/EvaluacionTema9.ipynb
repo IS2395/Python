{
  "nbformat": 4,
  "nbformat_minor": 0,
  "metadata": {
    "colab": {
      "name": "EVALUACION9.ipynb",
      "provenance": [],
      "include_colab_link": true
    },
    "kernelspec": {
      "name": "python3",
      "display_name": "Python 3"
    },
    "language_info": {
      "name": "python"
    }
  },
  "cells": [
    {
      "cell_type": "markdown",
      "metadata": {
        "id": "view-in-github",
        "colab_type": "text"
      },
      "source": [
        "<a href=\"https://colab.research.google.com/github/IS2395/Python/blob/main/00.EJERCICIOS/EvaluacionTema9.ipynb\" target=\"_parent\"><img src=\"https://colab.research.google.com/assets/colab-badge.svg\" alt=\"Open In Colab\"/></a>"
      ]
    },
    {
      "cell_type": "markdown",
      "source": [
        "# **Práctica 9. Programación funcional. (6 puntos)**"
      ],
      "metadata": {
        "id": "MaAC_3ey1Wdh"
      }
    },
    {
      "cell_type": "markdown",
      "source": [
        "## **Ejercicio 1 (2 puntos)**\n",
        "Realice un programa que pregunte aleatoriamente una multiplicación. El programa debe indicar si la respuesta ha sido correcta o no (en caso que la respuesta sea incorrecta el programa debe indicar cuál es la correcta). El programa preguntará 10 multiplicaciones, y al finalizar mostrará el número de aciertos.\n",
        "\n",
        "### Análisis\n",
        "* Hacemos un bucle con 10 iteraciones, en cada iteración se inicializan dos números con un valor aleatorio (de 2 a 10). Se calcula la multiplicación.\n",
        "\n",
        "* Mostramos la multiplicación, y pedimos por teclado el resultado. Si coincide con la multiplicación calculada cuento un acierto, sino escribimos un mensaje de error mostrando el resultado correcto. Cuando salimos del bucle mostramos el número de aciertos.\n",
        "\n",
        "Ejemplo. imprime una multiplicacion (9 * 8 = )por teclado se ingresa la respuesta, eso pasa 10 veces y al final nos imprime cuantas respuestas fueron correctas.\n",
        "\n",
        "Recuerda el import random."
      ],
      "metadata": {
        "id": "FA34kGtT1fzS"
      }
    },
    {
      "cell_type": "code",
      "source": [
        "import random\n",
        "\n",
        "def multiplicaciones():\n",
        "  aciertos = 0 \n",
        "  \n",
        "  for num in range(1,11):\n",
        "    \n",
        "    x = random.randint(2, 10)\n",
        "    y = random.randint(2, 10)\n",
        "\n",
        "    producto = x*y\n",
        "\n",
        "    print(f'Multiplicacion {num}')    \n",
        "    res = int(input(f'{x} * {y} = '))\n",
        "    \n",
        "    if res == producto:\n",
        "      aciertos = aciertos + 1\n",
        "      print('Correcto')\n",
        "    else:\n",
        "      print(f'Incorrecto. La respuesta correcta era: {producto}')\n",
        "\n",
        "  print(f'Tu puntaje es de: {aciertos} aciertos')\n",
        "\n",
        "multiplicaciones()"
      ],
      "metadata": {
        "id": "nLgJmayY3wus",
        "outputId": "e2fe4c9e-fa5e-4fa7-f3cb-3da37d34d39c",
        "colab": {
          "base_uri": "https://localhost:8080/"
        }
      },
      "execution_count": 6,
      "outputs": [
        {
          "output_type": "stream",
          "name": "stdout",
          "text": [
            "Multiplicacion 1\n",
            "3 * 9 = 27\n",
            "Correcto\n",
            "Multiplicacion 2\n",
            "8 * 9 = 72\n",
            "Correcto\n",
            "Multiplicacion 3\n",
            "5 * 4 = 20\n",
            "Correcto\n",
            "Multiplicacion 4\n",
            "7 * 9 = 63\n",
            "Correcto\n",
            "Multiplicacion 5\n",
            "7 * 3 = 21\n",
            "Correcto\n",
            "Multiplicacion 6\n",
            "5 * 2 = 10\n",
            "Correcto\n",
            "Multiplicacion 7\n",
            "2 * 4 = 8\n",
            "Correcto\n",
            "Multiplicacion 8\n",
            "9 * 5 = 45\n",
            "Correcto\n",
            "Multiplicacion 9\n",
            "5 * 6 = 30\n",
            "Correcto\n",
            "Multiplicacion 10\n",
            "9 * 6 = 1\n",
            "Incorrecto. La respuesta correcta era: 54\n",
            "Tu puntaje es de: 9 aciertos\n",
            "      \n"
          ]
        }
      ]
    },
    {
      "cell_type": "markdown",
      "source": [
        "## **Ejercicio 2 (2 puntos)**\n",
        "\n",
        "Obtener el cuadrado de todos los elementos en la lista.\n",
        "\n",
        "Lista: [1,2,3,4,5,6,7,8,9,10]"
      ],
      "metadata": {
        "id": "NB-YgYjZ1v0k"
      }
    },
    {
      "cell_type": "code",
      "source": [
        "lista = [1,2,3,4,5,6,7,8,9,10]\n",
        "\n",
        "def alcuadrado(lista):\n",
        "  cuadrados = [i**2 for i in lista]\n",
        "  print('Los cuadrados de los números en la lista son: ')\n",
        "  return cuadrados\n",
        "\n",
        "print(f'Lista: {lista}')\n",
        "alcuadrado(lista) "
      ],
      "metadata": {
        "id": "CaoROWBN3xsX",
        "outputId": "663fdc75-e627-49d1-83f7-a19e30d7ef2f",
        "colab": {
          "base_uri": "https://localhost:8080/"
        }
      },
      "execution_count": 10,
      "outputs": [
        {
          "output_type": "stream",
          "name": "stdout",
          "text": [
            "Lista: [1, 2, 3, 4, 5, 6, 7, 8, 9, 10]\n",
            "Los cuadrados de los números en la lista son: \n"
          ]
        },
        {
          "output_type": "execute_result",
          "data": {
            "text/plain": [
              "[1, 4, 9, 16, 25, 36, 49, 64, 81, 100]"
            ]
          },
          "metadata": {},
          "execution_count": 10
        }
      ]
    },
    {
      "cell_type": "markdown",
      "source": [
        "## **Ejercicio 3 (2 puntos)**\n",
        "\n",
        "Obtener la cantidad de elementos mayores a 5 en la tupla.\n",
        "\n",
        "tupla = (5,2,6,7,8,10,77,55,2,1,30,4,2,3)"
      ],
      "metadata": {
        "id": "1M6Jbryx1zVW"
      }
    },
    {
      "cell_type": "code",
      "source": [
        "tupla = (5,2,6,7,8,10,77,55,2,1,30,4,2,3)\n",
        "\n",
        "def contarmayor(n):\n",
        "  if n>5:\n",
        "    return True\n",
        "  else:\n",
        "    return False\n",
        "\n",
        "filtro=list(filter(contarmayor,tupla))\n",
        "\n",
        "print(f'Tupla: {tupla}')\n",
        "for numero in filtro:\n",
        "  print(f'El numero {numero} es mayor a 5')\n",
        "print(f'La cantidad de numeros mayores a 5 es: {len(filtro)}')"
      ],
      "metadata": {
        "id": "gA7YNCAf3ynT",
        "outputId": "21bdc12a-6cde-4b65-c43e-acadc6ca3e8f",
        "colab": {
          "base_uri": "https://localhost:8080/"
        }
      },
      "execution_count": 19,
      "outputs": [
        {
          "output_type": "stream",
          "name": "stdout",
          "text": [
            "Tupla: (5, 2, 6, 7, 8, 10, 77, 55, 2, 1, 30, 4, 2, 3)\n",
            "El numero 6 es mayor a 5\n",
            "El numero 7 es mayor a 5\n",
            "El numero 8 es mayor a 5\n",
            "El numero 10 es mayor a 5\n",
            "El numero 77 es mayor a 5\n",
            "El numero 55 es mayor a 5\n",
            "El numero 30 es mayor a 5\n",
            "La cantidad de numeros mayores a 5 es: 7\n"
          ]
        }
      ]
    },
    {
      "cell_type": "markdown",
      "source": [
        "## **Ejercicio 4 (2 puntos)**\n",
        "\n",
        "Obtener la suma de todos los elementos en la lista.\n",
        "\n",
        "lista = [1,2,3,4]"
      ],
      "metadata": {
        "id": "Z-YeuRv913Rz"
      }
    },
    {
      "cell_type": "code",
      "execution_count": 21,
      "metadata": {
        "id": "u_rKMgrZ1Q88",
        "outputId": "42f0d122-66f6-4505-9bf0-2b19f263598d",
        "colab": {
          "base_uri": "https://localhost:8080/"
        }
      },
      "outputs": [
        {
          "output_type": "stream",
          "name": "stdout",
          "text": [
            "La suma de los numeros en la lista [1, 2, 3, 4] es: 10\n"
          ]
        }
      ],
      "source": [
        "from functools import reduce\n",
        "\n",
        "def suma(x, y):\n",
        "  return x + y\n",
        "lista = [1,2,3,4]\n",
        "suma=reduce(suma,lista)\n",
        "print(f'La suma de los numeros en la lista {lista} es: {suma}')"
      ]
    }
  ]
}