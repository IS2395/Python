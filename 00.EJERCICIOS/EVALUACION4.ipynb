{
  "nbformat": 4,
  "nbformat_minor": 0,
  "metadata": {
    "colab": {
      "name": "Untitled7.ipynb",
      "provenance": [],
      "include_colab_link": true
    },
    "kernelspec": {
      "name": "python3",
      "display_name": "Python 3"
    },
    "language_info": {
      "name": "python"
    }
  },
  "cells": [
    {
      "cell_type": "markdown",
      "metadata": {
        "id": "view-in-github",
        "colab_type": "text"
      },
      "source": [
        "<a href=\"https://colab.research.google.com/github/IS2395/Python/blob/main/00.EJERCICIOS/EVALUACION4.ipynb\" target=\"_parent\"><img src=\"https://colab.research.google.com/assets/colab-badge.svg\" alt=\"Open In Colab\"/></a>"
      ]
    },
    {
      "cell_type": "markdown",
      "source": [
        "# 6 Práctica\n",
        "Sentencias condicionales. (6 puntos)\n",
        "\n",
        "## Ejercicio 1 (1.5 puntos)\n",
        "Realizar un ejemplo de menú, donde podemos escoger las distintas opciones hasta que seleccionamos la opción de “Salir”.\n",
        "\n",
        "Menú de recomendaciones\n",
        "\n",
        "* Literatura\n",
        "* Cine\n",
        "* Música\n",
        "* Videojuegos\n",
        "* Salir\n",
        "\n",
        "Al ingresar una opcion\n",
        "\n",
        "opcion 1:\n",
        "\n",
        "Lecturas recomendables:\n",
        "\n",
        "* Esperándolo a Tito y otros cuentos de fútbol (Eduardo Sacheri)\n",
        "* El juego de Ender (Orson Scott Card)\n",
        "* El sueño de los héroes (Adolfo Bioy Casares)\n",
        "\n",
        "opcion 2:\n",
        "\n",
        "Películas recomendables:\n",
        "\n",
        "* Matrix (1999)\n",
        "* El último samuray (2003)\n",
        "* Cars (2006)\n",
        "\n",
        "opcion 3:\n",
        "\n",
        "Discos recomendables:\n",
        "\n",
        "* Despedazado por mil partes (La Renga, 1996)\n",
        "* Búfalo (La Mississippi, 2008)\n",
        "* Gaia (Mago de Oz, 2003)\n",
        "\n",
        "opcion 4:\n",
        "\n",
        "* Videojuegos clásicos recomendables\n",
        "* Día del tentáculo (LucasArts, 1993)\n",
        "* Terminal Velocity (Terminal Reality/3D Realms, 1995)\n",
        "* Death Rally (Remedy/Apogee, 1996)\n",
        "\n",
        "opcion 5:\n",
        "\n",
        "Gracias, vuelva prontos\n",
        "\n",
        "Opción no válida, en caso de ingresar un número fuera de las opciones\n",
        "\n"
      ],
      "metadata": {
        "id": "uvxPhEvyOpzM"
      }
    },
    {
      "cell_type": "code",
      "execution_count": null,
      "metadata": {
        "id": "3PNomPUSOpRw",
        "outputId": "d428a53d-3d93-42c1-8717-6c0485882f0f",
        "colab": {
          "base_uri": "https://localhost:8080/"
        }
      },
      "outputs": [
        {
          "name": "stdout",
          "output_type": "stream",
          "text": [
            "MENU DE RECOMENDACIONES\n",
            "1. Literatura\n",
            "2. Cine\n",
            "3. Musica\n",
            "4. Videojuegos\n",
            "5. Salir\n",
            "Introduce el numero del menu que deseas visitar:  \n",
            "1\n",
            "Lecturas recomendables: \n",
            "    - Esperándolo a Tito y otros cuentos de fútbol (Eduardo Sacheri)\n",
            "    - El juego de Ender (Orson Scott Card)\n",
            "    - El sueño de los héroes (Adolfo Bioy Casares) \n",
            "MENU DE RECOMENDACIONES\n",
            "1. Literatura\n",
            "2. Cine\n",
            "3. Musica\n",
            "4. Videojuegos\n",
            "5. Salir\n",
            "Introduce el numero del menu que deseas visitar:  \n",
            "2\n",
            "Peliculas recomendables:\n",
            "    - Matriz (1999)\n",
            "    - El ultimo samurai (2003)\n",
            "    - Cars (2006) \n",
            "MENU DE RECOMENDACIONES\n",
            "1. Literatura\n",
            "2. Cine\n",
            "3. Musica\n",
            "4. Videojuegos\n",
            "5. Salir\n",
            "Introduce el numero del menu que deseas visitar:  \n",
            "3\n",
            "Discos recomendables: \n",
            "    - Despedazado por mil partes (La Renga, 1996)\n",
            "    - Búfalo (La Mississippi, 2008)\n",
            "    - Gaia (Mago de Oz, 2003) \n",
            "MENU DE RECOMENDACIONES\n",
            "1. Literatura\n",
            "2. Cine\n",
            "3. Musica\n",
            "4. Videojuegos\n",
            "5. Salir\n",
            "Introduce el numero del menu que deseas visitar:  \n",
            "4\n",
            "Videojuegos clasicos recomendables: \n",
            "    - Día del tentáculo (LucasArts, 1993)\n",
            "    - Terminal Velocity (Terminal Reality/3D Realms, 1995)\n",
            "    - Death Rally (Remedy/Apogee, 1996)\n",
            "MENU DE RECOMENDACIONES\n",
            "1. Literatura\n",
            "2. Cine\n",
            "3. Musica\n",
            "4. Videojuegos\n",
            "5. Salir\n",
            "Introduce el numero del menu que deseas visitar:  \n",
            "0\n",
            "Opcion no valida\n",
            "MENU DE RECOMENDACIONES\n",
            "1. Literatura\n",
            "2. Cine\n",
            "3. Musica\n",
            "4. Videojuegos\n",
            "5. Salir\n",
            "Introduce el numero del menu que deseas visitar:  \n",
            "5\n"
          ]
        }
      ],
      "source": [
        "#Tu codigo aqui\n",
        "print('''MENU DE RECOMENDACIONES\n",
        "1. Literatura\n",
        "2. Cine\n",
        "3. Musica\n",
        "4. Videojuegos\n",
        "5. Salir\n",
        "Introduce el numero del menu que deseas visitar:  ''')\n",
        "menu=int(input(''))\n",
        "while menu != 5:\n",
        "  if menu == 1:\n",
        "    print('''Lecturas recomendables: \n",
        "    - Esperándolo a Tito y otros cuentos de fútbol (Eduardo Sacheri)\n",
        "    - El juego de Ender (Orson Scott Card)\n",
        "    - El sueño de los héroes (Adolfo Bioy Casares) ''')\n",
        "    \n",
        "  elif menu == 2:\n",
        "    print('''Peliculas recomendables:\n",
        "    - Matriz (1999)\n",
        "    - El ultimo samurai (2003)\n",
        "    - Cars (2006) ''')\n",
        "  elif menu == 3:\n",
        "    print('''Discos recomendables: \n",
        "    - Despedazado por mil partes (La Renga, 1996)\n",
        "    - Búfalo (La Mississippi, 2008)\n",
        "    - Gaia (Mago de Oz, 2003) ''')\n",
        "  elif menu == 4:\n",
        "    print('''Videojuegos clasicos recomendables: \n",
        "    - Día del tentáculo (LucasArts, 1993)\n",
        "    - Terminal Velocity (Terminal Reality/3D Realms, 1995)\n",
        "    - Death Rally (Remedy/Apogee, 1996)''')\n",
        "  elif menu == 5:\n",
        "    print('Gracias, vuelva pronto')\n",
        "  else:\n",
        "    print('Opcion no valida')\n",
        "  print('''MENU DE RECOMENDACIONES\n",
        "1. Literatura\n",
        "2. Cine\n",
        "3. Musica\n",
        "4. Videojuegos\n",
        "5. Salir\n",
        "Introduce el numero del menu que deseas visitar:  ''')\n",
        "  menu=int(input(''))\n",
        "  "
      ]
    },
    {
      "cell_type": "markdown",
      "source": [
        "## Ejercicio 2 (1.5 puntos)\n",
        "Se pide por teclado un número y nos imprime los números primos que hay previos a este número.\n",
        "\n",
        "Ejemplo: si ingresamos el 10 nos imprima del 1 a ese 10 cuales números son primos.\n"
      ],
      "metadata": {
        "id": "hwpI5TwUPMNa"
      }
    },
    {
      "cell_type": "code",
      "source": [
        "#Tu codigo aqui\n",
        "numero=int(input('Ingresa un numero: '))\n",
        "for i in range(2,numero):\n",
        "  divisor=0\n",
        "  for n in range(2,i):\n",
        "    if i % n == 0:\n",
        "      divisor=divisor+1\n",
        "  if divisor == 0:\n",
        "    print(f'El numero {i} es numero primo')"
      ],
      "metadata": {
        "id": "TLccJKM3PQMI",
        "outputId": "ca967c6a-c105-4818-991e-44bb909c92b0",
        "colab": {
          "base_uri": "https://localhost:8080/"
        }
      },
      "execution_count": null,
      "outputs": [
        {
          "output_type": "stream",
          "name": "stdout",
          "text": [
            "Ingresa un numero: 10\n",
            "El numero 2 es numero primo\n",
            "El numero 3 es numero primo\n",
            "El numero 5 es numero primo\n",
            "El numero 7 es numero primo\n"
          ]
        }
      ]
    },
    {
      "cell_type": "markdown",
      "source": [
        "\n",
        "## Ejercicio 3 (1.5 puntos)\n",
        "Una persona adquirió un producto para pagar en 20 meses. El primer mes pagó 10 €, el segundo 20 €, el tercero 40 € y así sucesivamente. Realizar un algoritmo para determinar cuánto debe pagar mensualmente y el total de lo que pagó después de los 20 meses.\n",
        "\n",
        "Al finalizar los 20 meses pago en total:\n",
        "\n",
        "primer mes pago 10, segundo mes pago 20, tercer mes pago 30, cuarto mes pago 40, etc."
      ],
      "metadata": {
        "id": "OFocRk5oPSqp"
      }
    },
    {
      "cell_type": "code",
      "source": [
        "#Tu codigo aqui\n",
        "\n",
        "\n"
      ],
      "metadata": {
        "id": "bV0ApoCHPU_Z"
      },
      "execution_count": null,
      "outputs": []
    }
  ]
}