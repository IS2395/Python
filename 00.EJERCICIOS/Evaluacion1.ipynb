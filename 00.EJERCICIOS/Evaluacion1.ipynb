{
  "nbformat": 4,
  "nbformat_minor": 0,
  "metadata": {
    "colab": {
      "provenance": [],
      "authorship_tag": "ABX9TyPKKnkSKUF9V6AxsAzlCf3W",
      "include_colab_link": true
    },
    "kernelspec": {
      "name": "python3",
      "display_name": "Python 3"
    },
    "language_info": {
      "name": "python"
    }
  },
  "cells": [
    {
      "cell_type": "markdown",
      "metadata": {
        "id": "view-in-github",
        "colab_type": "text"
      },
      "source": [
        "<a href=\"https://colab.research.google.com/github/IS2395/Python/blob/main/00.EJERCICIOS/Evaluacion1.ipynb\" target=\"_parent\"><img src=\"https://colab.research.google.com/assets/colab-badge.svg\" alt=\"Open In Colab\"/></a>"
      ]
    },
    {
      "cell_type": "markdown",
      "source": [
        "#Práctica 2.\n",
        "\n",
        "\n",
        "###2 Práctica Números enteros y reales.\n",
        "Realiza los ejercicios de acuerdo a las indicaciones\n",
        "\n",
        "2.1 Ejercicio 1 (1.5 puntos)\n",
        "\n",
        "Escribir un programa que convierta un valor dado en grados Fahrenheit a grados Celsius."
      ],
      "metadata": {
        "id": "xz-c1WVsamOB"
      }
    },
    {
      "cell_type": "code",
      "execution_count": null,
      "metadata": {
        "colab": {
          "base_uri": "https://localhost:8080/"
        },
        "id": "jw3CfrUeZnNe",
        "outputId": "d8e44791-f440-4f67-b2ef-d714753fef83"
      },
      "outputs": [
        {
          "output_type": "stream",
          "name": "stdout",
          "text": [
            "Introduce grados Fahrenheit: 32\n",
            "Grados Celsius:  0.0\n"
          ]
        }
      ],
      "source": [
        "gradf=float(input('Introduce grados Fahrenheit: '))\n",
        "celsius=(gradf-32)/1.8\n",
        "print('Grados Celsius: ', float(celsius))"
      ]
    },
    {
      "cell_type": "markdown",
      "source": [
        "2.2 Ejercicio 2 (1.5 puntos)\n",
        "\n",
        "Dados dos números, mostrar la suma, resta, división y multiplicación de ambos."
      ],
      "metadata": {
        "id": "zB6Yop7ibBOc"
      }
    },
    {
      "cell_type": "code",
      "source": [
        "a=int(input('Introduce un numero: '))\n",
        "b=int(input('Introduce otro numero: '))\n",
        "print('La suma de ',a, ' + ',b,' es : ',a+b )\n",
        "print('La resta de ',a, ' - ',b,' es : ',a-b )\n",
        "print('La division de ',a, ' / ',b,' es : ',a/b )\n",
        "print('La multiplicacion de ',a, ' * ',b,' es : ',a*b )"
      ],
      "metadata": {
        "id": "8Y_FxYg5z7Gh",
        "outputId": "d1b4c520-ee49-4bc7-b642-590b0455bc92",
        "colab": {
          "base_uri": "https://localhost:8080/"
        }
      },
      "execution_count": 29,
      "outputs": [
        {
          "output_type": "stream",
          "name": "stdout",
          "text": [
            "Introduce un numero: 1\n",
            "Introduce otro numero: 2\n",
            "La suma de  1  +  2  es :  3\n",
            "La resta de  1  -  2  es :  -1\n",
            "La division de  1  /  2  es :  0.5\n",
            "La multiplicacion de  1  *  2  es :  2\n"
          ]
        }
      ]
    },
    {
      "cell_type": "code",
      "source": [
        "a=int(input('Introduce un numero: '))\n",
        "b=int(input('Introduce otro numero: '))\n",
        "print(f'La suma de {a} + {b} es : {a+b}')\n",
        "print(f'La resta de {a} - {b} es : {a-b}')\n",
        "print(f'La división de {a} / {b} es: {a/b}')\n",
        "print(f'La multiplicación de {a} * {b} es: {a*b}')"
      ],
      "metadata": {
        "id": "n4DLHRJwbHiS"
      },
      "execution_count": null,
      "outputs": []
    },
    {
      "cell_type": "markdown",
      "source": [
        "2.3 Ejercicio 3 (1.5 puntos)\n",
        "\n",
        "Calcular el perímetro y área de un rectángulo dada su base y su altura. Respuesta:"
      ],
      "metadata": {
        "id": "VgWX3pr8bIJY"
      }
    },
    {
      "cell_type": "code",
      "source": [
        "base=int(input('Introduce la base del triangulo: '))\n",
        "altura=int(input('Introduce la altura del triangulo: '))\n",
        "print('El perimetro del triangulo es: ', (2*(base+altura)))\n",
        "print('El area del rectangulo es: ', base*altura)\n"
      ],
      "metadata": {
        "id": "0Rc6b1aos0Fy",
        "outputId": "78ea31b0-30d5-4e52-c9c2-c60cd915e78b",
        "colab": {
          "base_uri": "https://localhost:8080/"
        }
      },
      "execution_count": 31,
      "outputs": [
        {
          "output_type": "stream",
          "name": "stdout",
          "text": [
            "Introduce la base del triangulo: 1\n",
            "Introduce la altura del triangulo: 2\n",
            "El perimetro del triangulo es:  6\n",
            "El area del rectangulo es:  2\n"
          ]
        }
      ]
    },
    {
      "cell_type": "markdown",
      "source": [
        "2.4 Ejercicio 4 (1.5 puntos) \n",
        "\n",
        "Calcular la media de tres números pedidos por teclado."
      ],
      "metadata": {
        "id": "yg4YhCPFuXy-"
      }
    },
    {
      "cell_type": "code",
      "source": [
        "num1=int(input('Introduce el primer numero: '))\n",
        "num2=int(input('Introduce el segundo numero: '))\n",
        "num3=int(input('Introduce el tercer numero: '))\n",
        "media=(num1+num2+num3)/3\n",
        "print('La media de los tres numeros que introdujiste es: ', media)"
      ],
      "metadata": {
        "id": "meB7F9K8ujKW",
        "outputId": "dd8a9425-926c-407f-d5eb-55d26a87cc6d",
        "colab": {
          "base_uri": "https://localhost:8080/"
        }
      },
      "execution_count": 32,
      "outputs": [
        {
          "output_type": "stream",
          "name": "stdout",
          "text": [
            "Introduce el primer numero: 1\n",
            "Introduce el segundo numero: 3\n",
            "Introduce el tercer numero: 5\n",
            "La media de los tres numeros que introdujiste es:  3.0\n"
          ]
        }
      ]
    }
  ]
}