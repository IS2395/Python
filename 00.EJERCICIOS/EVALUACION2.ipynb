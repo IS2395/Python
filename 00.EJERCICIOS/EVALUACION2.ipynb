{
  "nbformat": 4,
  "nbformat_minor": 0,
  "metadata": {
    "colab": {
      "name": "Untitled5.ipynb",
      "provenance": [],
      "include_colab_link": true
    },
    "kernelspec": {
      "name": "python3",
      "display_name": "Python 3"
    },
    "language_info": {
      "name": "python"
    }
  },
  "cells": [
    {
      "cell_type": "markdown",
      "metadata": {
        "id": "view-in-github",
        "colab_type": "text"
      },
      "source": [
        "<a href=\"https://colab.research.google.com/github/IS2395/Python/blob/main/00.EJERCICIOS/EVALUACION2.ipynb\" target=\"_parent\"><img src=\"https://colab.research.google.com/assets/colab-badge.svg\" alt=\"Open In Colab\"/></a>"
      ]
    },
    {
      "cell_type": "markdown",
      "source": [
        "# Práctica 4. \n",
        "6 puntos\n",
        "\n",
        "Tipos de colección de datos.\n",
        "\n",
        "## 4.1 Ejercicio 1(1.2 puntos)\n",
        "Realizar un programa que inicialice una lista con 10 valores aleatorios (del 1 al 10) y posteriormente muestre en pantalla cada elemento de la lista junto con su cuadrado y su cubo. Respuesta:\n",
        "\n"
      ],
      "metadata": {
        "id": "5401D1bpSsU-"
      }
    },
    {
      "cell_type": "code",
      "source": [
        "#Tu código aqui\n",
        "import random\n",
        " \n",
        "lista=list(range(1,11))\n",
        "random.shuffle(lista)\n",
        "print(f'Se genero la lista: {lista}')\n",
        "print(f'{lista[0]} ({lista[0]})^2={(lista[0])**2} ({lista[0]})^3={(lista[0])**3} ')\n",
        "print(f'{lista[1]} ({lista[1]})^2={(lista[1])**2} ({lista[1]})^3={(lista[1])**3} ')\n",
        "print(f'{lista[2]} ({lista[2]})^2={(lista[2])**2} ({lista[2]})^3={(lista[2])**3} ')\n",
        "print(f'{lista[3]} ({lista[3]})^2={(lista[3])**2} ({lista[3]})^3={(lista[3])**3} ')\n",
        "print(f'{lista[4]} ({lista[4]})^2={(lista[4])**2} ({lista[4]})^3={(lista[4])**3} ')\n",
        "print(f'{lista[5]} ({lista[5]})^2={(lista[5])**2} ({lista[5]})^3={(lista[5])**3} ')\n",
        "print(f'{lista[6]} ({lista[6]})^2={(lista[6])**2} ({lista[6]})^3={(lista[6])**3} ')\n",
        "print(f'{lista[7]} ({lista[7]})^2={(lista[7])**2} ({lista[7]})^3={(lista[7])**3} ')\n",
        "print(f'{lista[8]} ({lista[8]})^2={(lista[8])**2} ({lista[8]})^3={(lista[8])**3} ')\n",
        "print(f'{lista[9]} ({lista[9]})^2={(lista[9])**2} ({lista[9]})^3={(lista[9])**3} ')"
      ],
      "metadata": {
        "id": "bn6nk8zi7kQq",
        "outputId": "5da3c7e9-1ff9-4859-8ed4-30606eb53b65",
        "colab": {
          "base_uri": "https://localhost:8080/"
        }
      },
      "execution_count": null,
      "outputs": [
        {
          "output_type": "stream",
          "name": "stdout",
          "text": [
            "Se genero la lista: [10, 5, 4, 8, 2, 9, 1, 3, 6, 7]\n",
            "10 (10)^2=100 (10)^3=1000 \n",
            "5 (5)^2=25 (5)^3=125 \n",
            "4 (4)^2=16 (4)^3=64 \n",
            "8 (8)^2=64 (8)^3=512 \n",
            "2 (2)^2=4 (2)^3=8 \n",
            "9 (9)^2=81 (9)^3=729 \n",
            "1 (1)^2=1 (1)^3=1 \n",
            "3 (3)^2=9 (3)^3=27 \n",
            "6 (6)^2=36 (6)^3=216 \n",
            "7 (7)^2=49 (7)^3=343 \n"
          ]
        }
      ]
    },
    {
      "cell_type": "markdown",
      "source": [
        "## 4.2 Ejercicio 2 (1.2 puntos)\n",
        "Crea una lista e inicializarla con 5 cadenas de caracteres leídas por teclado. Copia los elementos de la lista en otra lista pero en orden inverso, y muestra sus elementos por la pantalla.\n",
        "\n"
      ],
      "metadata": {
        "id": "mYeAdvL-S2m4"
      }
    },
    {
      "cell_type": "code",
      "source": [
        "#Tu código aqui\n",
        "lista=['a','b','c','d','e']\n",
        "lista[0]=input('Introduce el primer valor de la lista: ')\n",
        "lista[1]=input('Introduce el segundo valor de la lista: ')\n",
        "lista[2]=input('Introduce el tercer valor de la lista: ')\n",
        "lista[3]=input('Introduce el cuarto valor de la lista: ')\n",
        "lista[4]=input('Introduce el quinto valor de la lista: ')\n",
        "print(f'Se genero la lista: {lista}')\n",
        "l_inv=lista\n",
        "l_inv.sort(reverse=True)\n",
        "print(f'Lista invertida: {l_inv}')"
      ],
      "metadata": {
        "id": "sW9gox1pS75K",
        "colab": {
          "base_uri": "https://localhost:8080/"
        },
        "outputId": "95f0b552-6a5d-4f1c-cec4-8dd8fd2d40c8"
      },
      "execution_count": null,
      "outputs": [
        {
          "output_type": "stream",
          "name": "stdout",
          "text": [
            "Introduce el primer valor de la lista: 1\n",
            "Introduce el segundo valor de la lista: 2\n",
            "Introduce el tercer valor de la lista: 3\n",
            "Introduce el cuarto valor de la lista: 4\n",
            "Introduce el quinto valor de la lista: 5\n",
            "Se genero la lista: ['1', '2', '3', '4', '5']\n",
            "Lista invertida: ['5', '4', '3', '2', '1']\n"
          ]
        }
      ]
    },
    {
      "cell_type": "markdown",
      "source": [
        "## 4.3 Ejercicio 3 (1.2 puntos)\n",
        "Se quiere realizar un programa que lea por teclado las 5 notas obtenidas por un alumno (comprendidas entre 0 y 10). A continuación debe mostrar todas las notas, la nota media, la nota más alta que ha sacado y la menor.\n",
        "\n"
      ],
      "metadata": {
        "id": "QWYc_eqVS96C"
      }
    },
    {
      "cell_type": "code",
      "source": [
        "#Tu codigo aqui\n",
        "notas=[1,2,3,4,5]\n",
        "notas[0]=int(input('Introduce la primera nota: '))\n",
        "notas[1]=int(input('Introduce la segunda nota: '))\n",
        "notas[2]=int(input('Introduce la tercera nota: '))\n",
        "notas[3]=int(input('Introduce la cuarta nota: '))\n",
        "notas[4]=int(input('Introduce la quinta nota: '))\n",
        "print(f'Las notas del alumno son: {notas}')\n",
        "print(f'El promedio del alumno es: {(notas[0]+notas[1]+notas[2]+notas[3]+notas[4])/5}')\n",
        "print(f'La calificacion mas alta es: {max(notas)}')\n",
        "print(f'La calificacion mas baja es: {min(notas)}')"
      ],
      "metadata": {
        "id": "9NtUBQ3rTAlZ",
        "colab": {
          "base_uri": "https://localhost:8080/"
        },
        "outputId": "f09eaec7-f65d-4159-c287-f22d01bd22cc"
      },
      "execution_count": null,
      "outputs": [
        {
          "output_type": "stream",
          "name": "stdout",
          "text": [
            "Introduce la primera nota: 1\n",
            "Introduce la segunda nota: 2\n",
            "Introduce la tercera nota: 3\n",
            "Introduce la cuarta nota: 4\n",
            "Introduce la quinta nota: 5\n",
            "Las notas del alumno son: [1, 2, 3, 4, 5]\n",
            "El promedio del alumno es: 3.0\n",
            "La calificacion mas alta es: 5\n",
            "La calificacion mas baja es: 1\n"
          ]
        }
      ]
    },
    {
      "cell_type": "markdown",
      "source": [
        "## 4.4 Ejercicio 4 (1.2 puntos)\n",
        "Codifica un programa en python que nos permita guardar los nombres de los alumnos de una clase y las notas que han obtenido. Cada alumno puede tener distinta cantidad de notas. Guarda la información en un diccionario cuya claves serán los nombres de los alumnos y los valores serán listados con las notas de cada alumno.\n",
        "\n",
        "El programa pedirá el número de alumnos que vamos a introducir, pedirá su nombre e irá pidiendo sus notas hasta que introduzcamos un número negativo. Al final el programa nos mostrará la lista de alumnos y la nota media obtenida por cada uno de ellos. Nota: si se introduce el nombre de un alumno que ya existe el programa nos dará un error.\n",
        "\n"
      ],
      "metadata": {
        "id": "0SZRy56KTC3q"
      }
    },
    {
      "cell_type": "code",
      "source": [
        "alumnos={}\n",
        "veces=int(input('Cuantos alumnos son: '))\n",
        "for vez in range (veces):\n",
        "  nombre_alumno=input('Nombre del alumno: ')\n",
        "  for nombre in range(alumnos):\n",
        "    print('ya existe')\n",
        "    nombre_alumno=input('Nombre del alumno: ')\n",
        "  alumnos['nombre']=nombre_alumno\n",
        "  calif=[]\n",
        "  calificacion=int(input('Calificicación: '))\n",
        "  while calificacion > 0:\n",
        "    calif.append(calificacion)\n",
        "    calificacion=int(input('Calificicación: '))\n",
        "  promedio=sum(calif)/len(calif)\n",
        "  alumnos['promedio']=promedio\n",
        "\n",
        "print('Alumno: ',alumnos['nombre'], 'Promedio:', alumnos['promedio'])\n",
        "\n",
        "\n"
      ],
      "metadata": {
        "id": "dP9JCquMIjO9"
      },
      "execution_count": null,
      "outputs": []
    },
    {
      "cell_type": "code",
      "source": [
        "#Tu código aqui\n",
        "alumnos={}\n",
        "veces=int(input('Cuantos alumnos vas a registrar: '))\n",
        "while veces>0:\n",
        "  nombre_alumno=input('Nombre del alumno: ')\n",
        "  if nombre_alumno in alumnos:\n",
        "    print('El alumno ya se registro')\n",
        "  else:\n",
        "    notas=[]\n",
        "    calif=float(input('Ingresa la primera calificación: '))\n",
        "    while calif>=0:\n",
        "      notas.append(calif)\n",
        "      calif=float(input('Ingresa la siguiente calificación: '))\n",
        "    promedio=sum(notas)/len(notas)  \n",
        "    alumnos.update({nombre_alumno:promedio})\n",
        "    veces=veces-1\n",
        "\n",
        "clase=alumnos.items()\n",
        "for k,v in clase:\n",
        "  print(f'Nombre del alumno: {k} Promedio: {v}')\n"
      ],
      "metadata": {
        "id": "Zai6eApUTGzk",
        "colab": {
          "base_uri": "https://localhost:8080/"
        },
        "outputId": "adb5b2dc-e081-4a60-e6b4-8e962f601794"
      },
      "execution_count": null,
      "outputs": [
        {
          "output_type": "stream",
          "name": "stdout",
          "text": [
            "Cuantos alumnos vas a registrar: 2\n",
            "Nombre del alumno: Pablo\n",
            "Ingresa la primera calificación: 1\n",
            "Ingresa la siguiente calificación: -1\n",
            "Nombre del alumno: Pablo\n",
            "El alumno ya se registro\n",
            "Nombre del alumno: Ivan\n",
            "Ingresa la primera calificación: 1\n",
            "Ingresa la siguiente calificación: 2\n",
            "Ingresa la siguiente calificación: 3\n",
            "Ingresa la siguiente calificación: -1\n",
            "Nombre del alumno: Pablo Promedio: 1.0\n",
            "Nombre del alumno: Ivan Promedio: 2.0\n"
          ]
        }
      ]
    },
    {
      "cell_type": "markdown",
      "source": [
        "## 4.5 Ejercicio 5 (1.2 puntos)\n",
        "Crea una tupla con los meses del año, pide números al usuario, si el número está entre 1 y la longitud máxima de la tupla, muestra el contenido de esa posición sino muestra un mensaje de error. El programa termina cuando el usuario introduce un cero.\n",
        "\n"
      ],
      "metadata": {
        "id": "BXyaY22ATI-M"
      }
    },
    {
      "cell_type": "code",
      "source": [
        "#Tu código aqui\n",
        "meses=('Enero','Febrero','Marzo','Abril','Mayo','Junio','Julio','Agosto','Septiembre','Octubre','Noviembre','Diciembre')\n",
        "mes=int(input('Introduce un numero del 1 al 12, para salir introduce 0: '))\n",
        "while mes != 0:\n",
        "  if mes in range(1,13):\n",
        "    print(meses[mes-1])\n",
        "  else:\n",
        "    print('Numero fuera del rango')\n",
        "  mes=int(input('Introduce un numero del 1 al 12, para salir introduce 0: '))"
      ],
      "metadata": {
        "id": "c4mkDJNtTLLz",
        "colab": {
          "base_uri": "https://localhost:8080/"
        },
        "outputId": "8949826a-c154-4f36-dc4b-1633d9c5f273"
      },
      "execution_count": null,
      "outputs": [
        {
          "name": "stdout",
          "output_type": "stream",
          "text": [
            "Introduce un numero del 1 al 12, para salir introduce 0: 1\n",
            "Enero\n",
            "Introduce un numero del 1 al 12, para salir introduce 0: 2\n",
            "Febrero\n",
            "Introduce un numero del 1 al 12, para salir introduce 0: 3\n",
            "Marzo\n",
            "Introduce un numero del 1 al 12, para salir introduce 0: 4\n",
            "Abril\n",
            "Introduce un numero del 1 al 12, para salir introduce 0: 5\n",
            "Mayo\n",
            "Introduce un numero del 1 al 12, para salir introduce 0: 6\n",
            "Junio\n",
            "Introduce un numero del 1 al 12, para salir introduce 0: 7\n",
            "Julio\n",
            "Introduce un numero del 1 al 12, para salir introduce 0: 8\n",
            "Agosto\n",
            "Introduce un numero del 1 al 12, para salir introduce 0: 9\n",
            "Septiembre\n",
            "Introduce un numero del 1 al 12, para salir introduce 0: 10\n",
            "Octubre\n",
            "Introduce un numero del 1 al 12, para salir introduce 0: 11\n",
            "Noviembre\n",
            "Introduce un numero del 1 al 12, para salir introduce 0: 12\n",
            "Diciembre\n",
            "Introduce un numero del 1 al 12, para salir introduce 0: 13\n",
            "Numero fuera del rango\n",
            "Introduce un numero del 1 al 12, para salir introduce 0: 0\n"
          ]
        }
      ]
    }
  ]
}